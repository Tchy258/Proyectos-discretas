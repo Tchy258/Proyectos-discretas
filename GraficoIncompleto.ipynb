{
  "nbformat": 4,
  "nbformat_minor": 0,
  "metadata": {
    "colab": {
      "name": "GraficoIncompleto.ipynb",
      "provenance": [],
      "collapsed_sections": []
    },
    "kernelspec": {
      "name": "python3",
      "display_name": "Python 3"
    },
    "language_info": {
      "name": "python"
    }
  },
  "cells": [
    {
      "cell_type": "markdown",
      "metadata": {
        "id": "cTmG_tCigfaZ"
      },
      "source": [
        "###Falta poner los tiempos promedios de ejecución en los arrays"
      ]
    },
    {
      "cell_type": "code",
      "metadata": {
        "id": "Xh5wvtF9TmRn",
        "colab": {
          "base_uri": "https://localhost:8080/",
          "height": 235
        },
        "outputId": "578222cc-11ac-4a2d-f9af-e7d1e3307f2d"
      },
      "source": [
        "import matplotlib.pyplot as plt\n",
        "import numpy as np\n",
        "\n",
        "# Para una cantidad de 12 cláusulas\n",
        "# De 3 a 12 proposiciones\n",
        "cantidadProposiciones = np.arange(3,13,1)\n",
        "\n",
        "# Tiempo promedio de ejecucion de cada SAT solver\n",
        "tiempoSAT = np.array([t3,t4,t5,0.0016993749999869578,t7,t8,t9,t10,t11,t12])\n",
        "tiempoMinisat = np.array([t3,t4,t5,8.49687499993479e-05,t7,t8,t9,t10,t11,t12])\n",
        "\n",
        "# Gráfico\n",
        "fig, ax = plt.subplots()\n",
        "# Leyendas\n",
        "ax.plot(cantidadProposiciones, tiempoSAT, label = 'SAT1')\n",
        "ax.plot(cantidadProposiciones, tiempoMinisat, label = 'Minisat22')\n",
        "ax.legend(loc = 'upper right')\n",
        "# Ejes\n",
        "plt.xlabel('Cantidad de proposiciones')\n",
        "plt.ylabel('Tiempo de ejecución')\n",
        "# Titulo\n",
        "plt.title('Gráfico tiempo de ejecución vs cantidad de proposiciones')\n",
        "plt.show()"
      ],
      "execution_count": 26,
      "outputs": [
        {
          "output_type": "error",
          "ename": "NameError",
          "evalue": "ignored",
          "traceback": [
            "\u001b[0;31m---------------------------------------------------------------------------\u001b[0m",
            "\u001b[0;31mNameError\u001b[0m                                 Traceback (most recent call last)",
            "\u001b[0;32m<ipython-input-26-9859b00b28d0>\u001b[0m in \u001b[0;36m<module>\u001b[0;34m()\u001b[0m\n\u001b[1;32m      7\u001b[0m \u001b[0;34m\u001b[0m\u001b[0m\n\u001b[1;32m      8\u001b[0m \u001b[0;31m# Tiempo promedio de ejecucion de cada SAT solver\u001b[0m\u001b[0;34m\u001b[0m\u001b[0;34m\u001b[0m\u001b[0;34m\u001b[0m\u001b[0m\n\u001b[0;32m----> 9\u001b[0;31m \u001b[0mtiempoSAT\u001b[0m \u001b[0;34m=\u001b[0m \u001b[0mnp\u001b[0m\u001b[0;34m.\u001b[0m\u001b[0marray\u001b[0m\u001b[0;34m(\u001b[0m\u001b[0;34m[\u001b[0m\u001b[0mt3\u001b[0m\u001b[0;34m,\u001b[0m\u001b[0mt4\u001b[0m\u001b[0;34m,\u001b[0m\u001b[0mt5\u001b[0m\u001b[0;34m,\u001b[0m\u001b[0;36m0.0016993749999869578\u001b[0m\u001b[0;34m,\u001b[0m\u001b[0mt7\u001b[0m\u001b[0;34m,\u001b[0m\u001b[0mt8\u001b[0m\u001b[0;34m,\u001b[0m\u001b[0mt9\u001b[0m\u001b[0;34m,\u001b[0m\u001b[0mt10\u001b[0m\u001b[0;34m,\u001b[0m\u001b[0mt11\u001b[0m\u001b[0;34m,\u001b[0m\u001b[0mt12\u001b[0m\u001b[0;34m]\u001b[0m\u001b[0;34m)\u001b[0m\u001b[0;34m\u001b[0m\u001b[0;34m\u001b[0m\u001b[0m\n\u001b[0m\u001b[1;32m     10\u001b[0m \u001b[0mtiempoMinisat\u001b[0m \u001b[0;34m=\u001b[0m \u001b[0mnp\u001b[0m\u001b[0;34m.\u001b[0m\u001b[0marray\u001b[0m\u001b[0;34m(\u001b[0m\u001b[0;34m[\u001b[0m\u001b[0mt3\u001b[0m\u001b[0;34m,\u001b[0m\u001b[0mt4\u001b[0m\u001b[0;34m,\u001b[0m\u001b[0mt5\u001b[0m\u001b[0;34m,\u001b[0m\u001b[0;36m8.49687499993479e-05\u001b[0m\u001b[0;34m,\u001b[0m\u001b[0mt7\u001b[0m\u001b[0;34m,\u001b[0m\u001b[0mt8\u001b[0m\u001b[0;34m,\u001b[0m\u001b[0mt9\u001b[0m\u001b[0;34m,\u001b[0m\u001b[0mt10\u001b[0m\u001b[0;34m,\u001b[0m\u001b[0mt11\u001b[0m\u001b[0;34m,\u001b[0m\u001b[0mt12\u001b[0m\u001b[0;34m]\u001b[0m\u001b[0;34m)\u001b[0m\u001b[0;34m\u001b[0m\u001b[0;34m\u001b[0m\u001b[0m\n\u001b[1;32m     11\u001b[0m \u001b[0;34m\u001b[0m\u001b[0m\n",
            "\u001b[0;31mNameError\u001b[0m: name 't3' is not defined"
          ]
        }
      ]
    }
  ]
}